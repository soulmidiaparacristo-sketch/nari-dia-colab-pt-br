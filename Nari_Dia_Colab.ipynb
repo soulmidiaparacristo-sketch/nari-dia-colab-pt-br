{
 "cells": [
  {
   "cell_type": "markdown",
   "id": "14cd6cc8",
   "metadata": {},
   "source": [
    "# 🎤 Nari Dia TTS - Colab Notebook\n",
    "\n",
    "Este caderno executa o modelo Nari Dia TTS da bifurcação nari-dia-colab. Ele foi projetado para rodar no Google Colab usando uma GPU T4 e evita erros de dtype relacionados a AMP, forçando a precisão float32.\n",
    "\n",
    "---\n",
    "\n",
    "## 📌 Como usar\n",
    "\n",
    "1. Acesse Tempo de Execução > Alterar tipo de tempo de execução e defina o Acelerador de Hardware como GPU\n",
    "2. Clique em Arquivo > Salvar uma cópia no Drive para manter sua própria versão\n",
    "3. Execute cada célula em ordem (Shift + Enter)\n",
    "4. Quando o aplicativo iniciar, clique no link gradio.live para interagir\n",
    "    - Forneça prompts de texto como [S1] Olá, Como vai?\n",
    "    - Opcionalmente, carregue um clipe de áudio para condicionar a voz\n",
    "5. Pressione o botão Parar ou Tempo de Execução > Redefinir o tempo de execução para desconectar\n",
    "\n",
    "---\n",
    "\n",
    "## ⚙️ Configuração do ambiente\n"
   ]
  },
  {
   "cell_type": "code",
   "execution_count": null,
   "id": "d616534c",
   "metadata": {},
   "outputs": [],
   "source": [
    "# Check GPU (should show T4 or compatible)\n",
    "!nvidia-smi"
   ]
  },
  {
   "cell_type": "code",
   "execution_count": null,
   "id": "1e868456",
   "metadata": {},
   "outputs": [],
   "source": [
    "# Clone the Colab-compatible fork\n",
    "!git clone https://github.com/soulmidiaparacristo-sketch/nari-dia-colab-pt-br.git\n",
    "%cd nari-dia-colab-pt-br"
   ]
  },
  {
   "cell_type": "code",
   "execution_count": null,
   "id": "0da901da",
   "metadata": {},
   "outputs": [],
   "source": [
    "# Reinstall PyTorch with T4-compatible CUDA 11.8\n",
    "!pip uninstall -y torch torchvision torchaudio -y\n",
    "!pip install torch==2.1.0 torchvision==0.16.0 torchaudio==2.1.0 --index-url https://download.pytorch.org/whl/cu118"
   ]
  },
  {
   "cell_type": "code",
   "execution_count": null,
   "id": "8ca38135",
   "metadata": {},
   "outputs": [],
   "source": [
    "# Install the fork in editable mode\n",
    "!pip install -e ."
   ]
  },
  {
   "cell_type": "code",
   "execution_count": null,
   "id": "c267da3c",
   "metadata": {},
   "outputs": [],
   "source": [
    "# Launch the Gradio interface\n",
    "!python app.py --share"
   ]
  },
  {
   "cell_type": "markdown",
   "id": "03f08932",
   "metadata": {},
   "source": [
    "---\n",
    "\n",
    "## 🙋 Maintainer\n",
    "\n",
    "Created by **Anil Clifford**  \n",
    "→ [@arcaneum](https://github.com/arcaneum) | [EdenDigitalUK](https://github.com/EdenDigitalUK)  \n",
    "→ [edendigital.io](https://www.edendigital.io)  \n",
    "→ [LinkedIn](https://www.linkedin.com/in/anilcliff/) | [Twitter/X](https://x.com/anil_clifford)\n",
    "\n",
    "---\n",
    "\n",
    "## 📜 License\n",
    "\n",
    "This notebook is part of the [nari-dia-colab](https://github.com/arcaneum/nari-dia-colab) fork.  \n",
    "Apache 2.0 — based on the original open-source Dia model by Nari Labs.\n"
   ]
  }
 ],
 "metadata": {},
 "nbformat": 4,
 "nbformat_minor": 5
}
