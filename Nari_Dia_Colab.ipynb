{
 "cells": [
  {
   "cell_type": "markdown",
   "id": "14cd6cc8",
   "metadata": {},
   "source": [
    "# 🎤 Nari Dia TTS - Colab Notebook\n",
    "\n",
    "This notebook runs the [Nari Dia TTS](https://github.com/nari-labs/dia) model from the `nari-dia-colab` fork. It is designed to run in Google Colab using a T4 GPU and avoids AMP-related dtype errors by forcing float32 precision.\n",
    "\n",
    "---\n",
    "\n",
    "## 📌 How to Use\n",
    "\n",
    "1. Go to **Runtime > Change runtime type** and set the Hardware Accelerator to `GPU`\n",
    "2. Click **File > Save a copy in Drive** to keep your own version\n",
    "3. Run each cell in order (Shift + Enter)\n",
    "4. When the app launches, click the `gradio.live` link to interact\n",
    "    - Provide text prompts like `[S1] Hello [S2] How are you?`\n",
    "    - Optionally upload an audio clip to condition the voice\n",
    "5. Press the stop button or `Runtime > Factory reset runtime` to disconnect\n",
    "\n",
    "---\n",
    "\n",
    "## ⚙️ Environment Setup\n"
   ]
  },
  {
   "cell_type": "code",
   "execution_count": null,
   "id": "d616534c",
   "metadata": {},
   "outputs": [],
   "source": [
    "# Check GPU (should show T4 or compatible)\n",
    "!nvidia-smi"
   ]
  },
  {
   "cell_type": "code",
   "execution_count": null,
   "id": "1e868456",
   "metadata": {},
   "outputs": [],
   "source": [
    "# Clone the Colab-compatible fork\n",
    "!git clone https://github.com/soulmidiaparacristo-sketch/nari-dia-colab-pt-br.git\n",
    "%cd nari-dia-colab-pt-br"
   ]
  },
  {
   "cell_type": "code",
   "execution_count": null,
   "id": "0da901da",
   "metadata": {},
   "outputs": [],
   "source": [
    "# Reinstall PyTorch with T4-compatible CUDA 11.8\n",
    "!pip uninstall -y torch torchvision torchaudio -y\n",
    "!pip install torch==2.1.0 torchvision==0.16.0 torchaudio==2.1.0 --index-url https://download.pytorch.org/whl/cu118"
   ]
  },
  {
   "cell_type": "code",
   "execution_count": null,
   "id": "8ca38135",
   "metadata": {},
   "outputs": [],
   "source": [
    "# Install the fork in editable mode\n",
    "!pip install -e ."
   ]
  },
  {
   "cell_type": "code",
   "execution_count": null,
   "id": "c267da3c",
   "metadata": {},
   "outputs": [],
   "source": [
    "# Launch the Gradio interface\n",
    "!python app.py --share"
   ]
  },
  {
   "cell_type": "markdown",
   "id": "03f08932",
   "metadata": {},
   "source": [
    "---\n",
    "\n",
    "## 🙋 Maintainer\n",
    "\n",
    "Created by **Anil Clifford**  \n",
    "→ [@arcaneum](https://github.com/arcaneum) | [EdenDigitalUK](https://github.com/EdenDigitalUK)  \n",
    "→ [edendigital.io](https://www.edendigital.io)  \n",
    "→ [LinkedIn](https://www.linkedin.com/in/anilcliff/) | [Twitter/X](https://x.com/anil_clifford)\n",
    "\n",
    "---\n",
    "\n",
    "## 📜 License\n",
    "\n",
    "This notebook is part of the [nari-dia-colab](https://github.com/arcaneum/nari-dia-colab) fork.  \n",
    "Apache 2.0 — based on the original open-source Dia model by Nari Labs.\n"
   ]
  }
 ],
 "metadata": {},
 "nbformat": 4,
 "nbformat_minor": 5
}
